{
 "cells": [
  {
   "cell_type": "markdown",
   "metadata": {},
   "source": [
    "# Before your start:\n",
    "\n",
    "    Read the README.md file\n",
    "    Comment as much as you can and use the resources (README.md file)\n",
    "    Happy learning!\n",
    "\n",
    "*Notes:* \n",
    "\n",
    "- Solve the questions with python.\n",
    "\n",
    "- Round the final answer to three decimal places."
   ]
  },
  {
   "cell_type": "markdown",
   "metadata": {},
   "source": [
    "## Bernoulli's Distribution\n",
    "\n",
    "In a basket containing 100 fruits, there are 60 apples and 40 oranges. \n",
    "\n",
    "A fruit is picked randomly from the basket. \n",
    "\n",
    "1. **What is the probability that the fruit is apple?**\n",
    "1. **What is the probability that it is an orange?**"
   ]
  },
  {
   "cell_type": "code",
   "execution_count": 5,
   "metadata": {},
   "outputs": [
    {
     "name": "stdout",
     "output_type": "stream",
     "text": [
      "The probability that the fruit is an apple is: 60.0 percent\n",
      "The probability that the fruit is an orange is: 40.0 percent\n"
     ]
    }
   ],
   "source": [
    "\"\"\"\n",
    "Calculate:\n",
    "p = probability that the fruit is an apple \n",
    "q = probability that the fruit is an orange\n",
    "\"\"\"\n",
    "\n",
    "# your code here\n",
    "fruits = 100\n",
    "a = 60\n",
    "o = 40\n",
    "\n",
    "\n",
    "# !. probability that the fruit is apple\n",
    "p = a/fruits\n",
    "print('The probability that the fruit is an apple is:', p*100, 'percent')\n",
    "\n",
    "# probability that the fruit is an orange\n",
    "q = o/fruits\n",
    "print('The probability that the fruit is an orange is:', q*100, 'percent')"
   ]
  },
  {
   "cell_type": "markdown",
   "metadata": {},
   "source": [
    "Now we take a random sample of 20 fruits from the basket. After each fruit is taken, a new fruit of the same type is replaced in the basket. Therefore, every time we are taking 1 fruit from 100 fruits. \n",
    "\n",
    "1. **What is the probability that the first 5 fruits are all apples?**\n",
    "\n",
    "1. **What is the probability that the first 5 fruits are all apples and the next 15 fruits are all oranges?**\n",
    "\n",
    "You can include the `p` and `q` probabilities you previous calculated in your solution."
   ]
  },
  {
   "cell_type": "code",
   "execution_count": 24,
   "metadata": {},
   "outputs": [
    {
     "name": "stdout",
     "output_type": "stream",
     "text": [
      "The probability that the first 5 fruits are all apples is: 7.78 percent\n",
      "The probability that the first 5 fruits are all apples and the next 15 fruits are all oranges is: 0.0 percent\n"
     ]
    }
   ],
   "source": [
    "# your code here\n",
    "n1 = 5\n",
    "n2 = 15\n",
    "five_a = p**n\n",
    "\n",
    "five_a_fifteen_o = (p**n1)*(q**n2)\n",
    "\n",
    "print('The probability that the first 5 fruits are all apples is:', round(five_a*100,2), 'percent')\n",
    "print('The probability that the first 5 fruits are all apples and the next 15 fruits are all oranges is:', round(five_a_fifteen_o*100,3), 'percent')"
   ]
  },
  {
   "cell_type": "markdown",
   "metadata": {},
   "source": [
    "##### Binomial Distribution\n",
    "\n",
    "Similar to the above problem, this time again we randomly sample 20 fruits.\n",
    "\n",
    "**What is the probability that this time the sample contains 5 apples and 15 oranges?**\n",
    "\n",
    "Please note that this time the order of the fruits being picked does not matter."
   ]
  },
  {
   "cell_type": "code",
   "execution_count": 49,
   "metadata": {},
   "outputs": [
    {
     "name": "stdout",
     "output_type": "stream",
     "text": [
      "The probability that this time the sample contains 5 apples and 15 oranges is: 0.001294493577559619\n"
     ]
    }
   ],
   "source": [
    "# your code here\n",
    "# Draw samples from a binomial distribution. Samples are drawn from a binomial distribution with specified parameters, \n",
    "# n trials and p probability of success where n an integer >= 0 and p is in the interval [0,1]. \n",
    "# (n may be input as a float, but it is truncated to an integer in use)\n",
    "import numpy as np\n",
    "from scipy import stats\n",
    "from scipy.stats import binom\n",
    "import matplotlib\n",
    "import matplotlib.pyplot as plt\n",
    "%matplotlib inline\n",
    "\n",
    "n = 20\n",
    "a = 5\n",
    "o = 15\n",
    "\n",
    "p = binom.pmf(a,n,p) + binom.pmf(o,n,q) \n",
    "print('The probability that this time the sample contains 5 apples and 15 oranges is:', p)"
   ]
  },
  {
   "cell_type": "markdown",
   "metadata": {},
   "source": [
    "In the lesson we also discussed CDF (cumulative distribution function). In the context of the above problem, **what is the probability that less than 5 fruits picked are apples?**\n",
    "\n",
    "Write the formula and calculate the probability below."
   ]
  },
  {
   "cell_type": "code",
   "execution_count": 50,
   "metadata": {},
   "outputs": [
    {
     "name": "stdout",
     "output_type": "stream",
     "text": [
      "The probability that less than 5 fruits picked are apples is: 0.001611524643456288\n"
     ]
    }
   ],
   "source": [
    "# your code here\n",
    "# prob = binom.cdf(x, n, p)\n",
    "\n",
    "prob = binom.cdf(5, 20, 0.6)\n",
    "print('The probability that less than 5 fruits picked are apples is:', prob)"
   ]
  },
  {
   "cell_type": "markdown",
   "metadata": {},
   "source": [
    "**Plot the PDF (probability distributiom function) for the above binomial distribution.**\n",
    "\n",
    "*Hint: The range of x in a binomial distribution is from `0` to `n`.*"
   ]
  },
  {
   "cell_type": "code",
   "execution_count": 61,
   "metadata": {},
   "outputs": [
    {
     "data": {
      "text/plain": [
       "[<matplotlib.lines.Line2D at 0x22ad690a7c8>]"
      ]
     },
     "execution_count": 61,
     "metadata": {},
     "output_type": "execute_result"
    },
    {
     "data": {
      "image/png": "[encoded data removed]",
      "text/plain": [
       "<Figure size 432x288 with 1 Axes>"
      ]
     },
     "metadata": {
      "needs_background": "light"
     },
     "output_type": "display_data"
    }
   ],
   "source": [
    "# your code here\n",
    "# Please label the axes and give a title to the plot\n",
    "\n",
    "x = np.arange(0,20)\n",
    "\n",
    "fig, ax = plt.subplots(1, 1)\n",
    "ax.set(xlabel = 'x', ylabel = 'P(x)',title= 'binomial distribution function')\n",
    "ax.plot(x, binom.pmf(x, 20, 0.6), 'bo')"
   ]
  },
  {
   "cell_type": "markdown",
   "metadata": {},
   "source": [
    "## Poisson Distribution\n",
    "\n",
    "In this challenge you are required to use the Math library in python to solve the problems.\n",
    "\n",
    "In the UEFA champions league tournament, the average number of goals scored in a match is 2.3. \n",
    "\n",
    "**What is the probability that the number of goals scored in a match is 5?**\n",
    "\n",
    "*Hint: Use the exp() in the math library*\n",
    "\n",
    "And to calculate the factorial, you can use the following code:\n",
    "\n",
    "```python\n",
    "import math\n",
    "math.factorial(n) # n is the number you want to find the factorial of\n",
    "```"
   ]
  },
  {
   "cell_type": "code",
   "execution_count": 85,
   "metadata": {},
   "outputs": [
    {
     "name": "stdout",
     "output_type": "stream",
     "text": [
      "The probability that the number of goals scored in a match is 5 is 0.0537750255819468\n"
     ]
    }
   ],
   "source": [
    "# your code here\n",
    "from scipy.stats import poisson\n",
    "import math\n",
    "  \n",
    "# (λ**k * e** −λ) / k!    -> let lambda λ be the expected value (average) of X -> k = events (5 goals)\n",
    "\n",
    "mu = 2.3\n",
    "goals = 5\n",
    "\n",
    "prob = ((mu**5) * math.exp(-mu))/math.factorial(goals)\n",
    "\n",
    "print('The probability that the number of goals scored in a match is 5 is', prob)"
   ]
  },
  {
   "cell_type": "markdown",
   "metadata": {},
   "source": [
    "**Draw a poisson probability distribution plot for the number of goals to be between 0 to 10.**"
   ]
  },
  {
   "cell_type": "code",
   "execution_count": 83,
   "metadata": {},
   "outputs": [
    {
     "data": {
      "text/plain": [
       "[Text(0, 0.5, 'P(x)'),\n",
       " Text(0.5, 0, 'x'),\n",
       " Text(0.5, 1.0, 'poisson probability distribution')]"
      ]
     },
     "execution_count": 83,
     "metadata": {},
     "output_type": "execute_result"
    },
    {
     "data": {
      "image/png": "[encoded data removed]",
      "text/plain": [
       "<Figure size 432x288 with 1 Axes>"
      ]
     },
     "metadata": {
      "needs_background": "light"
     },
     "output_type": "display_data"
    }
   ],
   "source": [
    "# your code here\n",
    "# Please label the axes and give a title to the plot \n",
    "from scipy.stats import poisson\n",
    "\n",
    "mu = 2.3\n",
    "\n",
    "x = np.arange(0,11)\n",
    "fig, ax = plt.subplots(1, 1)\n",
    "ax.plot(x, poisson.pmf(x, mu), 'bo')\n",
    "ax.vlines(x, 0, poisson.pmf(x, mu), colors='red', lw=1, alpha=0.5)\n",
    "ax.set(xlabel = 'x', ylabel = 'P(x)',title= 'poisson probability distribution')"
   ]
  },
  {
   "cell_type": "code",
   "execution_count": null,
   "metadata": {},
   "outputs": [],
   "source": []
  }
 ],
 "metadata": {
  "kernelspec": {
   "display_name": "Python 3",
   "language": "python",
   "name": "python3"
  },
  "language_info": {
   "codemirror_mode": {
    "name": "ipython",
    "version": 3
   },
   "file_extension": ".py",
   "mimetype": "text/x-python",
   "name": "python",
   "nbconvert_exporter": "python",
   "pygments_lexer": "ipython3",
   "version": "3.7.4"
  }
 },
 "nbformat": 4,
 "nbformat_minor": 2
}
