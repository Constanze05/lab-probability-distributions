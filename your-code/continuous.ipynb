{
 "cells": [
  {
   "cell_type": "markdown",
   "metadata": {},
   "source": [
    "# Before your start:\n",
    "\n",
    "    Read the README.md file\n",
    "    Comment as much as you can and use the resources (README.md file)\n",
    "    Happy learning!"
   ]
  },
  {
   "cell_type": "markdown",
   "metadata": {},
   "source": [
    "In this exercise, we  will generate random numbers from the continuous disributions we learned in the lesson. There are two ways to generate random numbers:\n",
    "\n",
    "1. Using the numpy library \n",
    "1. using the Scipy library \n",
    "\n",
    "Use either or both of the lbraries in this exercise."
   ]
  },
  {
   "cell_type": "markdown",
   "metadata": {},
   "source": [
    "## Uniform Distribution\n",
    "\n",
    "To generate uniform random numbers between any two given values using scipy, we can either use the following code or the code that we have\n",
    "discussed in class:"
   ]
  },
  {
   "cell_type": "code",
   "execution_count": 1,
   "metadata": {},
   "outputs": [],
   "source": [
    "import numpy as np\n",
    "import math\n",
    "import pandas as pd\n",
    "import matplotlib.pyplot as plt\n",
    "\n",
    "from scipy.stats import uniform\n",
    "from scipy.stats import norm\n",
    "from scipy.stats import expon"
   ]
  },
  {
   "cell_type": "code",
   "execution_count": 2,
   "metadata": {},
   "outputs": [
    {
     "name": "stdout",
     "output_type": "stream",
     "text": [
      "[2.45855824 2.11619625 2.12096633 2.83353009 2.02563036 2.33087427\n",
      " 2.65579265 2.56282771 2.45545553 2.85922976]\n"
     ]
    }
   ],
   "source": [
    "x = uniform.rvs(size=10)   # A uniform continuous random variable.\n",
    "a = 2\n",
    "b = 3\n",
    "randoms  = a + (b-a)*x\n",
    "print(randoms)"
   ]
  },
  {
   "cell_type": "markdown",
   "metadata": {},
   "source": [
    "**Your task:**\n",
    "\n",
    "1. Based on the code above, write a function that generates uniformly distributed random numbers. There are several requirements for your function:\n",
    "    * It should accept 3 parameters: \n",
    "        * `bottom` - the lower boundary of the generated numbers\n",
    "        * `ceiling` - the upper boundary of the generated numbers\n",
    "        * `count` - how many numbers to generate\n",
    "    * It should return an array of uniformly distributed random numbers\n",
    "\n",
    "1. Call your function with 2 sets of params below:\n",
    "    * bottom=10, ceiling=15, count=100\n",
    "    * bottom=10, ceiling=60, count=1,000\n",
    "\n",
    "1. Plot the uniform distributions generated above using histograms, where x axis is the value and y axis is the count. Let the histogram's number of bins be 10.\n",
    "\n",
    "Your output should look like below:\n",
    "\n",
    "![uniform distribution](ud.png)"
   ]
  },
  {
   "cell_type": "code",
   "execution_count": 3,
   "metadata": {},
   "outputs": [
    {
     "data": {
      "image/png": "[encoded data removed]",
      "text/plain": [
       "<Figure size 432x288 with 2 Axes>"
      ]
     },
     "metadata": {
      "needs_background": "light"
     },
     "output_type": "display_data"
    }
   ],
   "source": [
    "# your code here\n",
    "import matplotlib.pyplot as plt \n",
    "\n",
    "\n",
    "def example1(bottom,ceiling,count):\n",
    "    x = uniform.rvs(size=count)\n",
    "    return bottom + (ceiling-bottom)*x\n",
    "\n",
    "xx = example1(10,15,100)\n",
    "yy = example1(10,60,1000)\n",
    "\n",
    "fig, ax = plt.subplots(1, 2)\n",
    "ax[0].hist(xx)\n",
    "ax[1].hist(yy)\n",
    "\n",
    "plt.show()\n",
    "\n"
   ]
  },
  {
   "cell_type": "markdown",
   "metadata": {},
   "source": [
    "How are the two distributions different?"
   ]
  },
  {
   "cell_type": "raw",
   "metadata": {},
   "source": [
    "# your answer here:\n",
    "The first distribution is not as even as the second distribution. The amount of generated numbers of the second distribution is bigger than in the first one. Even though the range of values increased as well."
   ]
  },
  {
   "cell_type": "markdown",
   "metadata": {},
   "source": [
    "## Normal Distribution\n",
    "\n",
    "1. In the same way in the Uniform Distribution challenge, write a function that generates normally distributed random numbers.\n",
    "1. Generate 1,000 normally distributed numbers with the average of 10 and standard deviation of 1\n",
    "1. Generate 1,000 normally distributed numbers with the average of 10 and standard deviation of 50\n",
    "2. Plot the distributions of the data generated.\n",
    "\n",
    "Expected output:\n",
    "\n",
    "![normal distribution](nd.png)"
   ]
  },
  {
   "cell_type": "code",
   "execution_count": 4,
   "metadata": {},
   "outputs": [
    {
     "data": {
      "image/png": "[encoded data removed]",
      "text/plain": [
       "<Figure size 432x288 with 2 Axes>"
      ]
     },
     "metadata": {
      "needs_background": "light"
     },
     "output_type": "display_data"
    }
   ],
   "source": [
    "# your code here\n",
    "\n",
    "def example2(mean,std,size):\n",
    "    return norm.rvs(loc=mean,scale=std,size=size)\n",
    "\n",
    "xx = example2(10,1,1000)\n",
    "yy = example2(10,50,1000)\n",
    "\n",
    "\n",
    "fig, ax = plt.subplots(1, 2)\n",
    "ax[0].hist(xx)\n",
    "ax[1].hist(yy)\n",
    "\n",
    "plt.show()"
   ]
  },
  {
   "cell_type": "markdown",
   "metadata": {},
   "source": [
    "How are the two distributions different?"
   ]
  },
  {
   "cell_type": "raw",
   "metadata": {},
   "source": [
    "# your answer here:\n",
    "The shape of the two distributions don't look very different. However the range is very different, because of the standard deviation."
   ]
  },
  {
   "cell_type": "markdown",
   "metadata": {},
   "source": [
    "## Normal Distribution of Real Data\n",
    "\n",
    "In this challenge we are going to take a look the real data. We will use vehicles.csv file for this exercise"
   ]
  },
  {
   "cell_type": "markdown",
   "metadata": {},
   "source": [
    "First import vehicles.csv.\n",
    "Then plot the histograms for the following variables:\n",
    "\n",
    "1. Fuel Barrels/Year"
   ]
  },
  {
   "cell_type": "code",
   "execution_count": 5,
   "metadata": {},
   "outputs": [
    {
     "data": {
      "text/plain": [
       "Index(['Make', 'Model', 'Year', 'Engine Displacement', 'Cylinders',\n",
       "       'Transmission', 'Drivetrain', 'Vehicle Class', 'Fuel Type',\n",
       "       'Fuel Barrels/Year', 'City MPG', 'Highway MPG', 'Combined MPG',\n",
       "       'CO2 Emission Grams/Mile', 'Fuel Cost/Year'],\n",
       "      dtype='object')"
      ]
     },
     "execution_count": 5,
     "metadata": {},
     "output_type": "execute_result"
    }
   ],
   "source": [
    "# your code here\n",
    "data = pd.read_csv('vehicles.csv')\n",
    "data.columns"
   ]
  },
  {
   "cell_type": "code",
   "execution_count": 6,
   "metadata": {},
   "outputs": [
    {
     "data": {
      "text/plain": [
       "Text(0.5, 1.0, 'Fuel Barrels/Year')"
      ]
     },
     "execution_count": 6,
     "metadata": {},
     "output_type": "execute_result"
    },
    {
     "data": {
      "image/png": "[encoded data removed]",
      "text/plain": [
       "<Figure size 432x288 with 1 Axes>"
      ]
     },
     "metadata": {
      "needs_background": "light"
     },
     "output_type": "display_data"
    }
   ],
   "source": [
    "data['Fuel Barrels/Year'].hist()\n",
    "plt.title('Fuel Barrels/Year')\n"
   ]
  },
  {
   "cell_type": "markdown",
   "metadata": {},
   "source": [
    "2. CO2 Emission Grams/Mile "
   ]
  },
  {
   "cell_type": "code",
   "execution_count": 7,
   "metadata": {},
   "outputs": [
    {
     "data": {
      "text/plain": [
       "Text(0.5, 1.0, 'CO2 Emission Grams/Mile')"
      ]
     },
     "execution_count": 7,
     "metadata": {},
     "output_type": "execute_result"
    },
    {
     "data": {
      "image/png": "[encoded data removed]",
      "text/plain": [
       "<Figure size 432x288 with 1 Axes>"
      ]
     },
     "metadata": {
      "needs_background": "light"
     },
     "output_type": "display_data"
    }
   ],
   "source": [
    "# your code here\n",
    "data['CO2 Emission Grams/Mile'].hist()\n",
    "plt.title('CO2 Emission Grams/Mile')"
   ]
  },
  {
   "cell_type": "markdown",
   "metadata": {},
   "source": [
    "3. Combined MPG"
   ]
  },
  {
   "cell_type": "code",
   "execution_count": 8,
   "metadata": {},
   "outputs": [
    {
     "data": {
      "text/plain": [
       "Text(0.5, 1.0, 'Combined MPG')"
      ]
     },
     "execution_count": 8,
     "metadata": {},
     "output_type": "execute_result"
    },
    {
     "data": {
      "image/png": "[encoded data removed]",
      "text/plain": [
       "<Figure size 432x288 with 1 Axes>"
      ]
     },
     "metadata": {
      "needs_background": "light"
     },
     "output_type": "display_data"
    }
   ],
   "source": [
    "# your code here\n",
    "data['Combined MPG'].hist()\n",
    "plt.title('Combined MPG')"
   ]
  },
  {
   "cell_type": "markdown",
   "metadata": {},
   "source": [
    "Which one(s) of the variables are nearly normally distributed? How do you know?"
   ]
  },
  {
   "cell_type": "code",
   "execution_count": 9,
   "metadata": {},
   "outputs": [
    {
     "data": {
      "image/png": "[encoded data removed]",
      "text/plain": [
       "<Figure size 432x288 with 1 Axes>"
      ]
     },
     "metadata": {
      "needs_background": "light"
     },
     "output_type": "display_data"
    },
    {
     "data": {
      "image/png": "[encoded data removed]",
      "text/plain": [
       "<Figure size 432x288 with 1 Axes>"
      ]
     },
     "metadata": {
      "needs_background": "light"
     },
     "output_type": "display_data"
    },
    {
     "data": {
      "image/png": "[encoded data removed]",
      "text/plain": [
       "<Figure size 432x288 with 1 Axes>"
      ]
     },
     "metadata": {
      "needs_background": "light"
     },
     "output_type": "display_data"
    }
   ],
   "source": [
    "# you answer here:\n",
    "\n",
    "from statsmodels.graphics.gofplots import qqplot\n",
    "\n",
    "qqplot(data['Fuel Barrels/Year'], line='s')\n",
    "qqplot(data['CO2 Emission Grams/Mile'], line='s')\n",
    "qqplot(data['Combined MPG'], line='s')\n",
    "plt.show()\n",
    "\n",
    "# the QQ plot showing the scatter plot of points in a diagonal line, \n",
    "# closely fitting the expected diagonal pattern for a sample from a Gaussian distribution"
   ]
  },
  {
   "cell_type": "raw",
   "metadata": {},
   "source": [
    "The three variables are almost normally distributed. The first graphs look like a bell which is a sign for a normal distribution as well."
   ]
  },
  {
   "cell_type": "markdown",
   "metadata": {},
   "source": [
    "## Exponential Distribution"
   ]
  },
  {
   "cell_type": "markdown",
   "metadata": {},
   "source": [
    "1. Using `numpy.random.exponential`, create a function that returns a list of numbers exponentially distributed with the mean of 10. \n",
    "\n",
    "1. Use the function to generate two number sequences with a mean of 1 and 100 and a size of 1000.\n",
    "\n",
    "1. Plot the distributions as histograms with the number of bins as 100.\n",
    "\n",
    "Your output should look like below:\n",
    "\n",
    "![exponential distribution](ed.png)"
   ]
  },
  {
   "cell_type": "code",
   "execution_count": 10,
   "metadata": {},
   "outputs": [
    {
     "data": {
      "image/png": "[encoded data removed]",
      "text/plain": [
       "<Figure size 432x288 with 2 Axes>"
      ]
     },
     "metadata": {
      "needs_background": "light"
     },
     "output_type": "display_data"
    }
   ],
   "source": [
    "# your code here\n",
    "np.random.exponential\n",
    "    \n",
    "\n",
    "def example3(mean,size):\n",
    "    return np.random.exponential(mean,size)\n",
    "\n",
    "xx = example3(1,1000)\n",
    "yy = example3(100,1000)\n",
    "\n",
    "\n",
    "fig, ax = plt.subplots(1, 2)\n",
    "ax[0].hist(xx, bins=100)\n",
    "ax[1].hist(yy, bins=100)\n",
    "\n",
    "plt.show()"
   ]
  },
  {
   "cell_type": "markdown",
   "metadata": {},
   "source": [
    "How are the two distributions different?"
   ]
  },
  {
   "cell_type": "raw",
   "metadata": {},
   "source": [
    "# your answer here:\n",
    "The values in the second graph are higher because of the bigger mean."
   ]
  },
  {
   "cell_type": "markdown",
   "metadata": {},
   "source": [
    "## Exponential Distribution of Real Data\n",
    "\n",
    "Suppose that the amount of time one spends in a bank is exponentially distributed with mean as 10 minutes (i.e. λ = 1/10). What is the probability that a customer will spend less than fifteen minutes in the bank? \n",
    "\n",
    "Write a code in python to solve this problem"
   ]
  },
  {
   "cell_type": "code",
   "execution_count": 25,
   "metadata": {},
   "outputs": [
    {
     "data": {
      "text/plain": [
       "0.022313016014842982"
      ]
     },
     "execution_count": 25,
     "metadata": {},
     "output_type": "execute_result"
    }
   ],
   "source": [
    "# your answer here\n",
    "# Hint: This is same as saying P(x<15)\n",
    "\n",
    "# A common parameterization for expon is in terms of the rate parameter lambda, such that pdf = lambda * exp(-lambda * x). \n",
    "# This parameterization corresponds to using scale = 1 / lambda.\n",
    "\n",
    "mean = 10\n",
    "lamb = 1/mean\n",
    "x = 15\n",
    "\n",
    "pdf = lamb * np.exp(-lamb * 15)\n",
    "pdf"
   ]
  },
  {
   "cell_type": "markdown",
   "metadata": {},
   "source": [
    "What is the probability that the customer will spend more than 15 minutes"
   ]
  },
  {
   "cell_type": "code",
   "execution_count": 26,
   "metadata": {},
   "outputs": [
    {
     "name": "stdout",
     "output_type": "stream",
     "text": [
      "0.977686983985157\n"
     ]
    }
   ],
   "source": [
    "# your answer here\n",
    "p = 1 - pdf\n",
    "print(p)"
   ]
  },
  {
   "cell_type": "raw",
   "metadata": {},
   "source": [
    "The probability that the customer will spend less than 15 min is about 97.8 % high."
   ]
  },
  {
   "cell_type": "code",
   "execution_count": null,
   "metadata": {},
   "outputs": [],
   "source": []
  }
 ],
 "metadata": {
  "kernelspec": {
   "display_name": "Python 3",
   "language": "python",
   "name": "python3"
  },
  "language_info": {
   "codemirror_mode": {
    "name": "ipython",
    "version": 3
   },
   "file_extension": ".py",
   "mimetype": "text/x-python",
   "name": "python",
   "nbconvert_exporter": "python",
   "pygments_lexer": "ipython3",
   "version": "3.7.4"
  }
 },
 "nbformat": 4,
 "nbformat_minor": 2
}
